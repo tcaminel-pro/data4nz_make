{
 "cells": [
  {
   "cell_type": "markdown",
   "metadata": {},
   "source": []
  },
  {
   "cell_type": "code",
   "execution_count": null,
   "metadata": {},
   "outputs": [],
   "source": [
    "import pandas as pd\n",
    "import sqlalchemy as sa\n",
    "from pathlib import Path\n",
    "import pg8000    # used by the PostgresSQL driver we use\n",
    "import os, sys\n",
    "from fal import FalDbt\n",
    "\n",
    "#Import functions from parent directiry \"python\"\n",
    "#For that, we need to change the path - see https://stackoverflow.com/questions/61058798/python-relative-import-in-jupyter-notebook\n",
    "    cdir = os.path.dirname( os.path.abspath(''))\n",
    "    if cdir not in sys.path: sys.path.append(cdir)\n",
    "from utils.dbutils import df_columns_to_sql\n",
    "from utils.dbt_profile import get_database_url"
   ]
  },
  {
   "cell_type": "code",
   "execution_count": null,
   "metadata": {},
   "outputs": [],
   "source": [
    "faldbt = FalDbt(profiles_dir=\"~/.dbt\", project_dir=\"../..\")\n",
    "r = faldbt._config.credentials\n",
    "db_url = f\"postgresql+pg8000://{r.user}:{r.password}@{r.host}:{r.port}/{r.database}\" \n",
    "db_url"
   ]
  },
  {
   "cell_type": "code",
   "execution_count": null,
   "metadata": {},
   "outputs": [],
   "source": [
    "df = faldbt.execute_sql('SELECT * FROM {{ ref(\"cdp_scope_123_row\") }}')\n",
    "df"
   ]
  }
 ],
 "metadata": {
  "kernelspec": {
   "display_name": "Python 3.10.4 64-bit",
   "language": "python",
   "name": "python3"
  },
  "language_info": {
   "codemirror_mode": {
    "name": "ipython",
    "version": 3
   },
   "file_extension": ".py",
   "mimetype": "text/x-python",
   "name": "python",
   "nbconvert_exporter": "python",
   "pygments_lexer": "ipython3",
   "version": "3.10.4"
  },
  "orig_nbformat": 4,
  "vscode": {
   "interpreter": {
    "hash": "e7370f93d1d0cde622a1f8e1c04877d8463912d04d973331ad4851f04de6915a"
   }
  }
 },
 "nbformat": 4,
 "nbformat_minor": 2
}
