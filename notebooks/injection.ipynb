{
 "cells": [
  {
   "cell_type": "markdown",
   "metadata": {},
   "source": [
    "This notebook serves as a SCRATCHPAD to develop and test data injections code.  As it is under control, please make the code as lisible as possible."
   ]
  },
  {
   "cell_type": "code",
   "execution_count": null,
   "metadata": {},
   "outputs": [],
   "source": [
    "import pandas as pd\n",
    "import sqlalchemy as sa\n",
    "import sqlalchemy_utils as sau\n",
    "from pathlib import Path\n",
    "import pg8000    # used by the PostgresSQL driver we use\n",
    "import os, sys\n",
    "from sqlalchemy import inspect\n",
    "\n",
    "cdir = os.path.dirname( os.path.abspath(''))\n",
    "if cdir not in sys.path: sys.path.append(cdir)\n",
    "from utils.dbt_profile import get_database_url\n",
    "\n",
    "# get database connection URL from DBT profile  (~/profile.yaml)\n",
    "db_url= get_database_url('emission_factors_make') \n",
    "\n",
    "BASE_DIR=Path(\"/mnt/c/datasets\")\n",
    "engine = sa.create_engine(db_url)"
   ]
  },
  {
   "cell_type": "markdown",
   "metadata": {},
   "source": []
  },
  {
   "cell_type": "code",
   "execution_count": null,
   "metadata": {},
   "outputs": [],
   "source": [
    "a = {'Account number', 'Country',  'Primary activity',\t'Primary sector',\t'Primary industry',\t'ISINs',\t'Tickers',\t'Authority types'}\n",
    "\n",
    "a |= {'Account number', 'Country', 'Public', 'Response received date', \n",
    "                  'Primary activity', 'Primary sector', 'Primary industry',\t'Primary questionnaire sector'}\n",
    "\n",
    "a |= {\n",
    "        \"Account number\",\n",
    "        \"Country\",\n",
    "        \"Public\",\n",
    "        \"Response received date\",\n",
    "        \"Primary activity\",\n",
    "        \"Primary sector\",\n",
    "        \"Primary industry\",\n",
    "        \"Primary questionnaire sector\",\n",
    "    }\n",
    "a |=    {     \"Account number\",\n",
    "        \"Country/Areas\",\n",
    "        \"Public\",\n",
    "        \"Response received date\",\n",
    "        \"Primary activity\",\n",
    "        \"Primary sector\",\n",
    "        \"Primary industry\",\n",
    "        \"Primary questionnaire sector\",\n",
    "        \"sector\",}\n",
    "\n",
    "a |= {\n",
    "        \"Country\",\n",
    "        \"Primary Activity\",\n",
    "        \"Primary Questionnaire Sector\",\n",
    "        \"Primary Sector\",\n",
    "        \"Primary Industry\",\n",
    "        \"ISINs\",\n",
    "        \"Tickers\",\n",
    "    }\n",
    "\n",
    "a\n"
   ]
  }
 ],
 "metadata": {
  "kernelspec": {
   "display_name": "Python 3.8.10 64-bit",
   "language": "python",
   "name": "python3"
  },
  "language_info": {
   "codemirror_mode": {
    "name": "ipython",
    "version": 3
   },
   "file_extension": ".py",
   "mimetype": "text/x-python",
   "name": "python",
   "nbconvert_exporter": "python",
   "pygments_lexer": "ipython3",
   "version": "3.10.4"
  },
  "orig_nbformat": 4,
  "vscode": {
   "interpreter": {
    "hash": "e7370f93d1d0cde622a1f8e1c04877d8463912d04d973331ad4851f04de6915a"
   }
  }
 },
 "nbformat": 4,
 "nbformat_minor": 2
}
