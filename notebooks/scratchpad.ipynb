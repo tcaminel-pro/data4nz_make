{
 "cells": [
  {
   "cell_type": "code",
   "execution_count": 1,
   "metadata": {},
   "outputs": [],
   "source": [
    "import pandas as pd\n",
    "from pandas import DataFrame, Series\n",
    "from typing import cast\n",
    "\n",
    "from pathlib import Path\n",
    "\n",
    "import os, sys\n",
    "\n",
    "#Import functions from parent directiry \"python\"\n",
    "#For that, we need to change the path - see https://stackoverflow.com/questions/61058798/python-relative-import-in-jupyter-notebook\n",
    "cdir = os.path.dirname( os.path.abspath(''))\n",
    "if cdir not in sys.path: sys.path.append(cdir)"
   ]
  },
  {
   "cell_type": "code",
   "execution_count": 11,
   "metadata": {},
   "outputs": [
    {
     "name": "stdout",
     "output_type": "stream",
     "text": [
      "[[('cdp', 'cdp_rating_2021'), ('cdp', 'cdp_rating_2022'), ('cdp', 'rows_2022'), ('cdp', 'rows_2021'), ('cdp', 'rows_2020'), ('cdp', 'rows_2019'), ('cdp', 'QuestionsList_values_2021'), ('cdp', 'CompanyData_2022'), ('cdp', 'CompanyData_2021'), ('cdp', 'Summary Data_2020'), ('cdp', 'Summary Data_2019'), ('ref_data', 'sbt_compagnies_actions'), ('ref_data', 'cdp_isin_facset'), ('ref_data', 'ISIN_LEI_0822'), ('ref_data', 'sbt_compagnies_actions_2021'), ('ref_data', 'oecd_gdp_table_08_2022')]]\n"
     ]
    }
   ],
   "source": [
    "import json\n",
    "from dbt_artifacts_parser.parser import parse_manifest_v8\n",
    "\n",
    "manifest_path = Path(\"/home/tcl/prj/data4nz_make/dbt/organizations/target/manifest.json\")\n",
    "#catalog_path = Path(\"/home/tcl/prj/data4nz_make/dbt/emission_factors/target/manifest.json\")\n",
    "\n",
    "r = []\n",
    "with open(manifest_path, \"r\") as fp:\n",
    "    manifest_dict = json.load(fp)\n",
    "    manifest_obj = parse_manifest_v8(manifest=manifest_dict)\n",
    "\n",
    "r.append([(s.schema_, s.name) for s in manifest_obj.sources.values()])\n",
    "print(r)\n",
    "    \n"
   ]
  }
 ],
 "metadata": {
  "kernelspec": {
   "display_name": "Python 3",
   "language": "python",
   "name": "python3"
  },
  "language_info": {
   "codemirror_mode": {
    "name": "ipython",
    "version": 3
   },
   "file_extension": ".py",
   "mimetype": "text/x-python",
   "name": "python",
   "nbconvert_exporter": "python",
   "pygments_lexer": "ipython3",
   "version": "3.10.4"
  },
  "orig_nbformat": 4,
  "vscode": {
   "interpreter": {
    "hash": "e7370f93d1d0cde622a1f8e1c04877d8463912d04d973331ad4851f04de6915a"
   }
  }
 },
 "nbformat": 4,
 "nbformat_minor": 2
}
